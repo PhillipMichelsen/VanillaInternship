{
 "cells": [
  {
   "cell_type": "code",
   "execution_count": 41,
   "outputs": [],
   "source": [
    "import pandas as pd"
   ],
   "metadata": {
    "collapsed": false
   }
  },
  {
   "cell_type": "code",
   "execution_count": 42,
   "outputs": [],
   "source": [
    "vanilladf = pd.read_excel('vanilla.xlsx', header=[0,1],sheet_name=2)"
   ],
   "metadata": {
    "collapsed": false
   }
  },
  {
   "cell_type": "code",
   "execution_count": 43,
   "outputs": [
    {
     "data": {
      "text/plain": "MultiIndex([(                'No. Pohon', 'Unnamed: 0_level_1'),\n            (                'Seed Code', 'Unnamed: 1_level_1'),\n            (             'Tangal Tanam', 'Unnamed: 2_level_1'),\n            (               'Penyulaman', 'Unnamed: 3_level_1'),\n            (       'Tanggal Penyulaman', 'Unnamed: 4_level_1'),\n            (              'Jenis Kebun', 'Unnamed: 5_level_1'),\n            (               'Tipe Pohon', 'Unnamed: 6_level_1'),\n            ('Jumlah Ruas Saat di Tanam', 'Unnamed: 7_level_1'),\n            (                'No. Batch', 'Unnamed: 8_level_1'),\n            (                       2021,       'Tgl Polinasi'),\n            (                       2021,      'Jumlah tandan'),\n            (                       2021,    'Jumlah Polinasi'),\n            (                       2021,          'Tgl Panen'),\n            (                       2021,      'Jumlah Polong'),\n            (                       2021,         'Berat (Kg)'),\n            (                       2022,       'Tgl Polinasi'),\n            (                       2022,      'Jumlah Tandan'),\n            (                       2022,    'Jumlah Polinasi'),\n            (                       2022,      'Tanggal Panen'),\n            (                       2022,      'Jumlah Polong'),\n            (                       2022,         'Berat (Kg)'),\n            (                       2023,       'Tgl Polinasi'),\n            (                       2023,      'Jumlah Tandan'),\n            (                       2023,    'Jumlah Polinasi'),\n            (                       2023,      'Tanggal Panen'),\n            (                       2023,      'Jumlah Polong'),\n            (                       2023,         'Berat (Kg)')],\n           )"
     },
     "execution_count": 43,
     "metadata": {},
     "output_type": "execute_result"
    }
   ],
   "source": [
    "vanilladf.columns"
   ],
   "metadata": {
    "collapsed": false
   }
  },
  {
   "cell_type": "code",
   "execution_count": 59,
   "outputs": [
    {
     "data": {
      "text/plain": "['02/11/2022', '13/11/2022']"
     },
     "execution_count": 59,
     "metadata": {},
     "output_type": "execute_result"
    }
   ],
   "source": [
    "vanilladf[('Tanggal Penyulaman', 'Unnamed: 4_level_1')].iloc[0].split(',')"
   ],
   "metadata": {
    "collapsed": false
   }
  }
 ],
 "metadata": {
  "kernelspec": {
   "display_name": "Python 3",
   "language": "python",
   "name": "python3"
  },
  "language_info": {
   "codemirror_mode": {
    "name": "ipython",
    "version": 2
   },
   "file_extension": ".py",
   "mimetype": "text/x-python",
   "name": "python",
   "nbconvert_exporter": "python",
   "pygments_lexer": "ipython2",
   "version": "2.7.6"
  }
 },
 "nbformat": 4,
 "nbformat_minor": 0
}
